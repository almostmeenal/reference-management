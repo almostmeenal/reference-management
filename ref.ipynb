{
 "cells": [
  {
   "cell_type": "code",
   "execution_count": 52,
   "metadata": {
    "extensions": {
     "jupyter_dashboards": {
      "version": 1,
      "views": {
       "default_view": {
        "hidden": true
       }
      }
     }
    }
   },
   "outputs": [],
   "source": [
    "#Imports\n",
    "\n",
    "from __future__ import print_function\n",
    "import requests\n",
    "import pandas as pd\n",
    "import json\n",
    "from crossref.restful import Works\n",
    "import numpy as np\n",
    "from ipywidgets import interact, interactive, fixed, interact_manual,Layout,GridspecLayout,FileUpload\n",
    "import ipywidgets as widgets\n",
    "from IPython.display import display, clear_output\n",
    "import difflib\n",
    "import requests\n",
    "import time"
   ]
  },
  {
   "cell_type": "code",
   "execution_count": 53,
   "metadata": {},
   "outputs": [],
   "source": [
    "my_data=pd.read_csv('final.csv')\n",
    "\n",
    "success_bar = widgets.Text(value=\"Success\")\n",
    "loading_bar = widgets.Text(value=\"Loading Titles\")\n",
    "def long_running_function():\n",
    "    time.sleep(1)\n",
    "    \n",
    "backbutton = widgets.Button(description='Back')\n",
    "def backbuttonf(x):\n",
    "        with output:\n",
    "            clear_output()\n",
    "backbutton.on_click(backbuttonf)"
   ]
  },
  {
   "cell_type": "code",
   "execution_count": 54,
   "metadata": {},
   "outputs": [],
   "source": [
    "def view(df):\n",
    "    viewbutton = widgets.Button(description=\"View\")\n",
    "    viewallrowsbutton = widgets.Button(description=\"View all Rows\")\n",
    "    hidebutton = widgets.Button(description=\"Hide\")\n",
    "    output = widgets.Output()\n",
    "    ui = widgets.HBox([viewbutton, viewallrowsbutton,hidebutton])\n",
    "    display(ui, output)\n",
    "    def viewbuttonf(x):\n",
    "        with output:\n",
    "            clear_output()\n",
    "            pd.set_option(\"display.max_rows\", 10, \"display.max_columns\", 10)\n",
    "            display(df)\n",
    "\n",
    "    viewbutton.on_click(viewbuttonf)\n",
    "    def viewallrowsbuttonf(x):\n",
    "        with output:\n",
    "            clear_output()\n",
    "            pd.set_option(\"display.max_rows\", None, \"display.max_columns\", None)\n",
    "            display(df)\n",
    "    viewallrowsbutton.on_click(viewallrowsbuttonf)\n",
    "    def hidebuttonf(x):\n",
    "        with output:\n",
    "            clear_output()\n",
    "    hidebutton.on_click(hidebuttonf)"
   ]
  },
  {
   "cell_type": "code",
   "execution_count": 55,
   "metadata": {},
   "outputs": [
    {
     "data": {
      "application/vnd.jupyter.widget-view+json": {
       "model_id": "be4245a59ff0445ab4b591a6d9d8f179",
       "version_major": 2,
       "version_minor": 0
      },
      "text/plain": [
       "Output()"
      ]
     },
     "metadata": {},
     "output_type": "display_data"
    }
   ],
   "source": [
    "def viewdatabase():\n",
    "    viewbutton = widgets.Button(description=\"View\")\n",
    "    viewallrowsbutton = widgets.Button(description=\"View all Rows\")\n",
    "    hidebutton = widgets.Button(description=\"Back\")\n",
    "    output = widgets.Output()\n",
    "    ui = widgets.HBox([viewbutton, viewallrowsbutton,hidebutton])\n",
    "    display(ui, output)\n",
    "    def viewbuttonf(x):\n",
    "        global my_data\n",
    "        with output:\n",
    "            clear_output()\n",
    "            pd.set_option(\"display.max_rows\", 10, \"display.max_columns\", 10)\n",
    "            display(my_data)\n",
    "\n",
    "    viewbutton.on_click(viewbuttonf)\n",
    "    def viewallrowsbuttonf(x):\n",
    "        with output:\n",
    "            global my_data\n",
    "            clear_output()\n",
    "            pd.set_option(\"display.max_rows\", None, \"display.max_columns\", None)\n",
    "            display(my_data)\n",
    "    viewallrowsbutton.on_click(viewallrowsbuttonf)\n",
    "    def hidebuttonf(x):\n",
    "        with output:\n",
    "            clear_output()\n",
    "            ui.layout.display='none'\n",
    "    hidebutton.on_click(hidebuttonf)\n",
    "    \n",
    "viewdb = widgets.Button(description=\"View Database\",layout=Layout(height='auto', width='auto'))\n",
    "oviewdb = widgets.Output()\n",
    "display(oviewdb)\n",
    "\n",
    "def fviewdb(a):\n",
    "    with oviewdb:\n",
    "        global my_data\n",
    "        viewdatabase()\n",
    "viewdb.on_click(fviewdb)"
   ]
  },
  {
   "cell_type": "code",
   "execution_count": 56,
   "metadata": {},
   "outputs": [],
   "source": [
    "def multi_checkbox_widget(descriptions):\n",
    "        \"\"\" Widget with a search field and lots of checkboxes \"\"\"\n",
    "        search_widget = widgets.Text()\n",
    "        options_dict = {description: widgets.Checkbox(description=description, value=False) for description in descriptions}\n",
    "        options = [options_dict[description] for description in descriptions]\n",
    "        options_widget = widgets.VBox(options, layout={'overflow': 'scroll', })\n",
    "        multi_select = widgets.VBox([search_widget, options_widget])\n",
    "\n",
    "        # Wire the search field to the checkboxes\n",
    "        def on_text_change(change):\n",
    "            search_input = change['new']\n",
    "            if search_input == '':\n",
    "                # Reset search field\n",
    "                new_options = [options_dict[description] for description in descriptions]\n",
    "            else:\n",
    "                # Filter by search field using difflib.\n",
    "                close_matches = difflib.get_close_matches(search_input, descriptions, cutoff=0.0)\n",
    "                new_options = [options_dict[description] for description in close_matches]\n",
    "            options_widget.children = new_options\n",
    "\n",
    "        search_widget.observe(on_text_change, names='value')\n",
    "        return multi_select"
   ]
  },
  {
   "cell_type": "code",
   "execution_count": 57,
   "metadata": {},
   "outputs": [
    {
     "data": {
      "application/vnd.jupyter.widget-view+json": {
       "model_id": "e227650faee34d71a369cc5fc291c222",
       "version_major": 2,
       "version_minor": 0
      },
      "text/plain": [
       "Output()"
      ]
     },
     "metadata": {},
     "output_type": "display_data"
    }
   ],
   "source": [
    "def deletedata():\n",
    "    output = widgets.Output()\n",
    "    uh = widgets.HBox([backbutton])\n",
    "    display(uh, output)\n",
    "    display(loading_bar)\n",
    "    long_running_function()\n",
    "    clear_output()\n",
    "    uh.layout.display='none'\n",
    "    widget = multi_checkbox_widget(my_data['title'].values)\n",
    "    widelbutton = widgets.Button(description=\"Confirm\")\n",
    "    outputdel = widgets.Output()\n",
    "    ui = widgets.HBox([widget, widelbutton,backbutton])\n",
    "    def widdelete(g):\n",
    "        with outputdel:\n",
    "            widget.layout.display ='none'\n",
    "            widelbutton.layout.display ='none'\n",
    "            ui.layout.display='none'\n",
    "            selected_options = [w.description for w in widget.children[1].children if w.value]\n",
    "            for i in range(len(selected_options)):\n",
    "                global my_data\n",
    "                my_data.drop(my_data[my_data.title ==selected_options[i]].index, inplace = True)\n",
    "                my_data.to_csv('final.csv', index = False)\n",
    "            display(success_bar)\n",
    "            long_running_function()\n",
    "            clear_output()\n",
    "    widelbutton.on_click(widdelete)\n",
    "    display(ui,outputdel)\n",
    "    \n",
    "\n",
    "buttond = widgets.Button(description='Delete Entry',layout=Layout(height='auto', width='auto'))\n",
    "output = widgets.Output()\n",
    "display(output)\n",
    "\n",
    "def on_button_clickedd(b):\n",
    "    with output:\n",
    "            deletedata()\n",
    "\n",
    "buttond.on_click(on_button_clickedd)"
   ]
  },
  {
   "cell_type": "code",
   "execution_count": 58,
   "metadata": {},
   "outputs": [
    {
     "data": {
      "application/vnd.jupyter.widget-view+json": {
       "model_id": "3482bcaa4d2245fdaf0eadb5e76b8b65",
       "version_major": 2,
       "version_minor": 0
      },
      "text/plain": [
       "Output()"
      ]
     },
     "metadata": {},
     "output_type": "display_data"
    }
   ],
   "source": [
    "def editdata():\n",
    "    display(loading_bar)\n",
    "    long_running_function()\n",
    "    clear_output()\n",
    "    widget = multi_checkbox_widget(my_data['title'].values)\n",
    "    widelbutton = widgets.Button(description=\"Confirm\")\n",
    "    hidebutton = widgets.Button(description=\"Back\")\n",
    "    def hidebuttonf(x):\n",
    "        with output:\n",
    "            clear_output()\n",
    "            ui.layout.display='none'\n",
    "    hidebutton.on_click(hidebuttonf)\n",
    "    ui = widgets.HBox([widget, widelbutton,hidebutton])\n",
    "    outputdel = widgets.Output()\n",
    "    display(ui, outputdel)\n",
    "    \n",
    "    def widdelete(g):\n",
    "        with outputdel:\n",
    "            global my_data\n",
    "            ui.layout.display = 'none'\n",
    "            selected_options = [w.description for w in widget.children[1].children if w.value]\n",
    "            for i in range(1):\n",
    "                temp = my_data.loc[my_data['title']==selected_options[0]]   \n",
    "                my_data =my_data.drop(my_data[my_data.title ==selected_options[i]].index, inplace = True)\n",
    "                \n",
    "                titlewidget = widgets.Text(value=temp['title'][0], description = 'Title')\n",
    "                pubwidget = widgets.Text(value=temp['publisherorvenue'][0], description = 'Publisher or Venue')\n",
    "                yearwidget = widgets.IntText(value =temp['year'][0], description = 'Year')\n",
    "                doiwidget = widgets.Text(value =temp['DOIorURL'][0], description = 'DOI or URL')\n",
    "                authorwidget = widgets.Text(value =temp['first_author'][0], description = 'First Author')\n",
    "                citewidget = widgets.IntText(value =temp['cited_by'][0], description = 'Cited By')\n",
    "                \n",
    "                uv = widgets.VBox([titlewidget,pubwidget,yearwidget,doiwidget,authorwidget])\n",
    "\n",
    "                metabutton = widgets.Button(description=\"Update Data\")\n",
    "                outputmeta = widgets.Output()\n",
    "                display(uv)\n",
    "                \n",
    "\n",
    "                display(metabutton, outputmeta)\n",
    "                \n",
    "\n",
    "                def buttmeta(q):\n",
    "                    with outputmeta:\n",
    "                        metabutton.layout.display = 'none'\n",
    "                        uv.layout.display = 'none'\n",
    "                        a = titlewidget.value\n",
    "                        b = pubwidget.value\n",
    "                        c = yearwidget.value\n",
    "                        d = doiwidget.value\n",
    "                        e = authorwidget.value\n",
    "                        f = citewidget.value\n",
    "                        dftocsv(a,b,c,d,e,f)\n",
    "\n",
    "                metabutton.on_click(buttmeta)\n",
    "    widelbutton.on_click(widdelete)\n",
    "\n",
    "buttone = widgets.Button(description='Edit Entry',layout=Layout(height='auto', width='auto'))\n",
    "outpute = widgets.Output()\n",
    "\n",
    "display(outpute)\n",
    "\n",
    "def on_button_clickede(b):\n",
    "    with outpute:\n",
    "            editdata()\n",
    "\n",
    "buttone.on_click(on_button_clickede)"
   ]
  },
  {
   "cell_type": "code",
   "execution_count": 59,
   "metadata": {},
   "outputs": [
    {
     "data": {
      "application/vnd.jupyter.widget-view+json": {
       "model_id": "e4198c02184d496994cf38c8ce5006b0",
       "version_major": 2,
       "version_minor": 0
      },
      "text/plain": [
       "Output()"
      ]
     },
     "metadata": {},
     "output_type": "display_data"
    }
   ],
   "source": [
    "def entermetadata():\n",
    "    titlewidget = widgets.Text(value='', description = 'Title')\n",
    "    pubwidget = widgets.Text(value='', description = 'Publisher or Venue')\n",
    "    yearwidget = widgets.Text(value ='', description = 'Year')\n",
    "    doiwidget = widgets.Text(value ='', description = 'DOI or URL')\n",
    "    authorwidget = widgets.Text(value ='', description = 'First Author')\n",
    "    citewidget = widgets.Text(value ='', description = 'Cited By')\n",
    "    metabutton = widgets.Button(description=\"Enter Data\")\n",
    "    outputmeta = widgets.Output()\n",
    "    uv = widgets.VBox([titlewidget,pubwidget,yearwidget,doiwidget,authorwidget])\n",
    "    up = widgets.HBox([uv,backbutton])\n",
    "    display(up, metabutton, outputmeta)\n",
    "\n",
    "    def buttmeta(q):\n",
    "        with outputmeta:\n",
    "            up.layout.display ='none'\n",
    "            display(backbutton)\n",
    "            title = titlewidget.value\n",
    "            publisher = pubwidget.value\n",
    "            year = yearwidget.value\n",
    "            DOIorURL = doiwidget.value\n",
    "            first_author = authorwidget.value\n",
    "            cited_by = citewidget.value\n",
    "            dftocsv(title, publisher, year, DOIorURL, first_author, cited_by)\n",
    "            display(success_bar)\n",
    "            long_running_function()\n",
    "            clear_output()\n",
    "            \n",
    "    metabutton.on_click(buttmeta)\n",
    "    \n",
    "buttonem = widgets.Button(description='Enter Metadata Manually',layout=Layout(height='auto', width='auto'))\n",
    "output = widgets.Output()\n",
    "display(output)\n",
    "\n",
    "def on_button_clickedem(b):\n",
    "    with output:\n",
    "            entermetadata()\n",
    "\n",
    "buttonem.on_click(on_button_clickedem)"
   ]
  },
  {
   "cell_type": "code",
   "execution_count": 60,
   "metadata": {},
   "outputs": [],
   "source": [
    "def dftocsv(title, publisher, year, DOIorURL, first_author, cited_by):\n",
    "    data = pd.DataFrame( columns = ['title', 'publisherorvenue', 'year', 'DOIorURL', 'first_author', 'cited_by'])\n",
    "    data.loc[0] = [title, publisher, year, DOIorURL, first_author, cited_by]\n",
    "    global my_data\n",
    "    my_data.append(data)\n",
    "    my_data.to_csv('final.csv', index = False)\n",
    "    display(success_bar)\n",
    "    long_running_function()\n",
    "    clear_output()"
   ]
  },
  {
   "cell_type": "code",
   "execution_count": 61,
   "metadata": {
    "extensions": {
     "jupyter_dashboards": {
      "version": 1,
      "views": {
       "default_view": {
        "hidden": true
       }
      }
     }
    }
   },
   "outputs": [
    {
     "data": {
      "application/vnd.jupyter.widget-view+json": {
       "model_id": "f794b020105b47108152d4d16fc820c5",
       "version_major": 2,
       "version_minor": 0
      },
      "text/plain": [
       "Output()"
      ]
     },
     "metadata": {},
     "output_type": "display_data"
    }
   ],
   "source": [
    "def titletodata():\n",
    "    w = widgets.Text( description='Enter Title', disabled=False)\n",
    "    button = widgets.Button(description=\"Submit\")\n",
    "    output = widgets.Output()\n",
    "    hidebutton = widgets.Button(description=\"Back\")\n",
    "    def hidebuttonf(x):\n",
    "        with output:\n",
    "            clear_output()\n",
    "            ui.layout.display='none'\n",
    "    hidebutton.on_click(hidebuttonf)\n",
    "    ui = widgets.HBox([w,button,hidebutton])\n",
    "    display(ui,output)\n",
    "    def on_button_clicked(b):\n",
    "        with output:\n",
    "            new_title = w.value\n",
    "            try:\n",
    "                payload={'query.bibliographic': new_title.strip(),\n",
    "                        'sort':'relevance',\n",
    "                         'order': 'desc',\n",
    "                         'rows':10}\n",
    "                r = requests.get('https://api.crossref.org/works?', params=payload)\n",
    "                for i in range(10):\n",
    "                    a = r.json()['message']['items'][i]['title']\n",
    "                    a = ' '.join(map(str, a))\n",
    "                    try:\n",
    "                        b = r.json()['message']['items'][i]['subtitle']\n",
    "                        b = ' '.join(map(str, b))\n",
    "                        c = a+\": \"+b\n",
    "                    except:\n",
    "                        c = a\n",
    "\n",
    "                    if c == new_title:\n",
    "                        break\n",
    "                m = r.json()['message']['items'][i]\n",
    "\n",
    "                title = c\n",
    "                publisher = m['publisher']\n",
    "                if m.get('published-print').get('date-parts'):\n",
    "                    year = m.get('published-print').get('date-parts')[0][0]\n",
    "                if m.get('DOI'):\n",
    "                    DOIorURL = m['DOI']\n",
    "                else:\n",
    "                    if m.get('URL'):\n",
    "                        DOIorURL = m['URL']\n",
    "                if m.get('author'):\n",
    "                    if len(m.get('author')) >= 1:\n",
    "                        if m.get('author')[0].get('family'):\n",
    "                            first_author = m['author'][0]['family']\n",
    "                            if m.get('author')[0].get('given'):\n",
    "                                first_author = m['author'][0]['given'][0] + \".\" + m['author'][0]['family']\n",
    "                cited_by = m['reference-count']\n",
    "\n",
    "                checkval = widgets.Button(description=\"View Metadata to be inserted\")\n",
    "                ox = widgets.Output()\n",
    "\n",
    "                display(checkval, ox,backbutton)\n",
    "\n",
    "                def checkbutton(n):\n",
    "                    with ox:\n",
    "                        print(\"title:\" , title, \"\\npublisher:\" ,publisher, \"\\nyear:\", year, \"\\nDOI or URL:\", DOIorURL,\"\\nfirst author:\", first_author, \"\\ncited by\", cited_by)\n",
    "\n",
    "                checkval.on_click(checkbutton)\n",
    "            except:\n",
    "                print(\"Metadata could not be found\")\n",
    "                def p(l):\n",
    "                    if l == 'Yes':\n",
    "                        entermetadata()\n",
    "                    if l == 'No':\n",
    "                        print(\"ok\")\n",
    "                        \n",
    "                interact(p, l=['Enter Metadata Manually?','Yes','No'])\n",
    "                \n",
    "            def g(x):\n",
    "                if x == 'Yes':\n",
    "                    dftocsv(title, publisher, year, DOIorURL, first_author, cited_by)\n",
    "                    display(success_bar)\n",
    "                    long_running_function()\n",
    "                    clear_output()\n",
    "                if x == 'No':\n",
    "                    clear_output()\n",
    "                    def p(l):\n",
    "                        if l == 'Yes':\n",
    "                            entermetadata()\n",
    "                        if l == 'No':\n",
    "                            print(\"ok\")\n",
    "                    interact(p, l=['Enter Metadata Manually?','Yes','No'])\n",
    "            interact(g, x=['Enter this Metadata in Database?','Yes','No'])\n",
    "            \n",
    "            \n",
    "\n",
    "    button.on_click(on_button_clicked)\n",
    "\n",
    "buttona = widgets.Button(description='Add Entry',layout=Layout(height='auto', width='auto'))\n",
    "outputa = widgets.Output()\n",
    "\n",
    "display(outputa)\n",
    "\n",
    "def on_button_clickeda(b):\n",
    "    with outputa:\n",
    "        titletodata()\n",
    "buttona.on_click(on_button_clickeda)"
   ]
  },
  {
   "cell_type": "code",
   "execution_count": 62,
   "metadata": {},
   "outputs": [
    {
     "data": {
      "application/vnd.jupyter.widget-view+json": {
       "model_id": "ce7e351f857b4dc68b3a0ad51a929ed6",
       "version_major": 2,
       "version_minor": 0
      },
      "text/plain": [
       "Output()"
      ]
     },
     "metadata": {},
     "output_type": "display_data"
    }
   ],
   "source": [
    "def pdftodata():\n",
    "    upload = FileUpload()\n",
    "    display(upload)\n",
    "    buttonn = widgets.Button(description=\"Submit\")\n",
    "    outputt = widgets.Output()\n",
    "    display(buttonn, outputt)\n",
    "    def onbuttonclicked(k):\n",
    "        with outputt:\n",
    "            uploaded_file = upload.value\n",
    "            uploaded_file[list(upload.value.keys())[0]][\"content\"]\n",
    "            !rm -rf /docs*\n",
    "            !mkdir /docs\n",
    "            with open(\"docs/\" + list(upload.value.keys())[0], \"wb\") as fp:\n",
    "                fp.write(uploaded_file[list(upload.value.keys())[0]][\"content\"])\n",
    "            try:\n",
    "                !autobib-master/autobib.py docs -cgf\n",
    "                with open('docs/.queried.json') as f:\n",
    "                    dataa = json.load(f)\n",
    "                    title = dataa[0]['title']\n",
    "                    publisher = dataa[0]['publisher']\n",
    "                    try:\n",
    "                        year = dataa[0]['created']['date-parts'][0][0]\n",
    "                    except:\n",
    "                        year = dataa[0]['deposited']['date-parts'][0][0]\n",
    "\n",
    "                    try:\n",
    "                        DOIorURL = dataa[0]['DOI']\n",
    "                    except:\n",
    "                        DOIorURL = dataa[0]['URL']\n",
    "\n",
    "                    first_author = dataa[0]['author'][0]['given'][0] + \".\" + dataa[0]['author'][0]['family']\n",
    "\n",
    "                    try: \n",
    "                        cited_by = dataa[0]['reference-count']\n",
    "                    except:\n",
    "                        cited_by = dataa[0]['references-count']\n",
    "                        \n",
    "                    checkval = widgets.Button(description=\"View Metadata to be inserted\")\n",
    "                    ox = widgets.Output()\n",
    "\n",
    "                    display(checkval, ox)\n",
    "\n",
    "                    def checkbutton(n):\n",
    "                        with ox:\n",
    "                            print(\"title:\" , title, \"\\npublisher:\" ,publisher, \"\\nyear:\", year, \"\\nDOI or URL:\", DOIorURL,\"\\nfirst author:\", first_author, \"\\ncited by\", cited_by)\n",
    "\n",
    "                    checkval.on_click(checkbutton)\n",
    "\n",
    "        \n",
    "                    def g(x):\n",
    "                        if x == 'Yes':\n",
    "                            dftodbms(title, publisher, year, DOIorURL, first_author, cited_by)\n",
    "                        if x == 'No':\n",
    "                            print(\"ok\")\n",
    "                    interact(g, x=['Enter this Metadata in Database?','Yes','No'])\n",
    "            except:\n",
    "                print(\"Could not get info from file, Enter Title Manually to Continue\")\n",
    "                titletodata()\n",
    "    buttonn.on_click(onbuttonclicked)\n",
    "buttonpdf = widgets.Button(description=\"Enter PDF\",layout=Layout(height='auto', width='auto'))\n",
    "output = widgets.Output()\n",
    "display(output)\n",
    "def on_button_clickedpdf(z):\n",
    "    with output:\n",
    "        display(backbutton)\n",
    "        pdftodata()\n",
    "buttonpdf.on_click(on_button_clickedpdf)"
   ]
  },
  {
   "cell_type": "code",
   "execution_count": 63,
   "metadata": {},
   "outputs": [
    {
     "data": {
      "application/vnd.jupyter.widget-view+json": {
       "model_id": "f7a760c702ce44e1888a7fb4ec96a78a",
       "version_major": 2,
       "version_minor": 0
      },
      "text/plain": [
       "Output()"
      ]
     },
     "metadata": {},
     "output_type": "display_data"
    }
   ],
   "source": [
    "def searc():\n",
    "    \n",
    "    def search(search):\n",
    "\n",
    "        my_data = pd.read_csv('final.csv')\n",
    "        df = my_data.apply(lambda x: x.astype(str).str.lower())\n",
    "        df = df[df.apply(lambda x: x.str.contains(search)).any(axis=1)]\n",
    "        pd.set_option(\"display.max_rows\", None, \"display.max_columns\", None)\n",
    "        display(df)\n",
    "        pd.set_option(\"display.max_rows\", 10, \"display.max_columns\", 10)\n",
    "\n",
    "    interact(search, search='')\n",
    "buttonk = widgets.Button(description=\"Search for Keyword\",layout=Layout(height='auto', width='auto'))\n",
    "output = widgets.Output()\n",
    "display(output)\n",
    "def on_button_clickedk(b):\n",
    "    with output:\n",
    "        display(backbutton)\n",
    "        searc()\n",
    "buttonk.on_click(on_button_clickedk)"
   ]
  },
  {
   "cell_type": "code",
   "execution_count": 64,
   "metadata": {},
   "outputs": [
    {
     "data": {
      "application/vnd.jupyter.widget-view+json": {
       "model_id": "d72418d9b1cc481aadbc97655018f1e7",
       "version_major": 2,
       "version_minor": 0
      },
      "text/plain": [
       "Output()"
      ]
     },
     "metadata": {},
     "output_type": "display_data"
    }
   ],
   "source": [
    "def orderbyquery():\n",
    "        \n",
    "    my_data = pd.read_csv('final.csv')\n",
    "    b = widgets.Dropdown(\n",
    "            options=['title','publisherorvenue','year','first_author', 'cited_by'],\n",
    "            value = 'title',\n",
    "            description='Select Query',\n",
    "            disabled=False,\n",
    "        )\n",
    "    c = widgets.Dropdown(\n",
    "            options=['', 'ASC', 'DESC'],\n",
    "            value = '',\n",
    "            description='Select Query',\n",
    "            disabled=False,\n",
    "        )\n",
    "    \n",
    "    ui = widgets.HBox([b, c])\n",
    "    hidebutton = widgets.Button(description=\"Back\")\n",
    "    def hidebuttonf(x):\n",
    "        with output:\n",
    "            clear_output()\n",
    "            uv.layout.display='none'\n",
    "    hidebutton.on_click(hidebuttonf)\n",
    "    uv = widgets.HBox([ui,hidebutton])\n",
    "    def f(b, c):\n",
    "        if c == 'ASC':\n",
    "            df = my_data.sort_values(by=[b], ascending=True)\n",
    "            view(df)\n",
    "        if c == 'DESC':\n",
    "            df = my_data.sort_values(by=[b], ascending=False)\n",
    "            view(df)\n",
    "    out = widgets.interactive_output(f, {'b': b, 'c': c})\n",
    "\n",
    "    display(uv, out)\n",
    "    \n",
    "buttono = widgets.Button(description='Order By Query',layout=Layout(height='auto', width='auto'))\n",
    "outputo = widgets.Output()\n",
    "\n",
    "display(outputo)\n",
    "\n",
    "def on_button_clickedo(b):\n",
    "    with outputo:\n",
    "        orderbyquery()\n",
    "buttono.on_click(on_button_clickedo)"
   ]
  },
  {
   "cell_type": "code",
   "execution_count": 65,
   "metadata": {},
   "outputs": [
    {
     "data": {
      "application/vnd.jupyter.widget-view+json": {
       "model_id": "2c514873778f4f2a892ec1cc799f944e",
       "version_major": 2,
       "version_minor": 0
      },
      "text/plain": [
       "Output()"
      ]
     },
     "metadata": {},
     "output_type": "display_data"
    }
   ],
   "source": [
    "def groupbyquery():\n",
    "    \n",
    "    d = widgets.Dropdown(\n",
    "        options=[ 'publisherorvenue','year','first_author', 'cited_by'],\n",
    "        value = 'year',\n",
    "        description='Select Query',\n",
    "        disabled=False)\n",
    "    outputt = widgets.Output()\n",
    "    hidebut = widgets.Button(description=\"Back\")\n",
    "    def hidebutf(p):\n",
    "        with outputt:\n",
    "            clear_output()\n",
    "            ul.layout.display='none'\n",
    "\n",
    "    hidebut.on_click(hidebutf)\n",
    "    ul = widgets.HBox([d,hidebut])\n",
    "    def f(d):\n",
    "        df = my_data.groupby([d]).count()\n",
    "        view(df)\n",
    "    outputt = widgets.interactive_output(f, { 'd': d})\n",
    "    display(ul, outputt)\n",
    "\n",
    "buttong = widgets.Button(description='Group By Query',layout=Layout(height='auto', width='auto'))\n",
    "outputt = widgets.Output()\n",
    "\n",
    "display(outputt)\n",
    "\n",
    "def on_button_clickedg(b):\n",
    "    with outputt:\n",
    "        groupbyquery()\n",
    "buttong.on_click(on_button_clickedg)"
   ]
  },
  {
   "cell_type": "code",
   "execution_count": 66,
   "metadata": {
    "extensions": {
     "jupyter_dashboards": {
      "version": 1,
      "views": {
       "default_view": {
        "hidden": true
       }
      }
     }
    }
   },
   "outputs": [],
   "source": [
    "#Layout\n",
    "grid = GridspecLayout(3, 3)\n",
    "grid[0:1, 1:2] = buttonk\n",
    "grid[1:2, 1:2] = viewdb\n",
    "grid[2:3, 1:2] = buttonpdf\n",
    "grid[0:1, 0:1] = buttond\n",
    "grid[1:2, 0:1] = buttone\n",
    "grid[2:3, 0:1] = buttona\n",
    "grid[0:1,2:3] = buttono\n",
    "grid[1:2,2:3] = buttong\n",
    "grid[2:3,2:3] = buttonem\n",
    "grid.layout.height = '650px'"
   ]
  },
  {
   "cell_type": "code",
   "execution_count": 67,
   "metadata": {
    "scrolled": true
   },
   "outputs": [
    {
     "data": {
      "application/vnd.jupyter.widget-view+json": {
       "model_id": "fdcdb3861f3746d59bc56b6d670e7ee1",
       "version_major": 2,
       "version_minor": 0
      },
      "text/plain": [
       "GridspecLayout(children=(Button(description='Search for Keyword', layout=Layout(grid_area='widget001', height=…"
      ]
     },
     "metadata": {},
     "output_type": "display_data"
    }
   ],
   "source": [
    "display(grid)"
   ]
  },
  {
   "cell_type": "code",
   "execution_count": null,
   "metadata": {},
   "outputs": [],
   "source": []
  }
 ],
 "metadata": {
  "extensions": {
   "jupyter_dashboards": {
    "activeView": "default_view",
    "version": 1,
    "views": {
     "default_view": {
      "cellMargin": 10,
      "defaultCellHeight": 40,
      "maxColumns": 12,
      "name": "active_view",
      "type": "grid"
     }
    }
   }
  },
  "kernelspec": {
   "display_name": "Python 3",
   "language": "python",
   "name": "python3"
  },
  "language_info": {
   "codemirror_mode": {
    "name": "ipython",
    "version": 3
   },
   "file_extension": ".py",
   "mimetype": "text/x-python",
   "name": "python",
   "nbconvert_exporter": "python",
   "pygments_lexer": "ipython3",
   "version": "3.7.6"
  }
 },
 "nbformat": 4,
 "nbformat_minor": 4
}
